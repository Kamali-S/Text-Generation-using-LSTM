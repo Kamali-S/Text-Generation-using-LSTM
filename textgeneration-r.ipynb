{
 "cells": [
  {
   "cell_type": "code",
   "execution_count": 1,
   "metadata": {
    "_execution_state": "idle",
    "_uuid": "051d70d956493feee0c6d64651c6a088724dca2a"
   },
   "outputs": [
    {
     "name": "stderr",
     "output_type": "stream",
     "text": [
      "── \u001b[1mAttaching packages\u001b[22m ─────────────────────────────────────── tidyverse 1.2.1 ──\n",
      "\n",
      "\u001b[32m✔\u001b[39m \u001b[34mggplot2\u001b[39m 3.2.1.\u001b[31m9000\u001b[39m     \u001b[32m✔\u001b[39m \u001b[34mpurrr  \u001b[39m 0.3.2     \n",
      "\u001b[32m✔\u001b[39m \u001b[34mtibble \u001b[39m 2.1.3          \u001b[32m✔\u001b[39m \u001b[34mdplyr  \u001b[39m 0.8.3     \n",
      "\u001b[32m✔\u001b[39m \u001b[34mtidyr  \u001b[39m 0.8.3          \u001b[32m✔\u001b[39m \u001b[34mstringr\u001b[39m 1.4.0     \n",
      "\u001b[32m✔\u001b[39m \u001b[34mreadr  \u001b[39m 1.3.1          \u001b[32m✔\u001b[39m \u001b[34mforcats\u001b[39m 0.4.0     \n",
      "\n",
      "── \u001b[1mConflicts\u001b[22m ────────────────────────────────────────── tidyverse_conflicts() ──\n",
      "\u001b[31m✖\u001b[39m \u001b[34mdplyr\u001b[39m::\u001b[32mfilter()\u001b[39m masks \u001b[34mstats\u001b[39m::filter()\n",
      "\u001b[31m✖\u001b[39m \u001b[34mdplyr\u001b[39m::\u001b[32mlag()\u001b[39m    masks \u001b[34mstats\u001b[39m::lag()\n",
      "\n"
     ]
    },
    {
     "data": {
      "text/html": [
       "'nyt-comments'"
      ],
      "text/latex": [
       "'nyt-comments'"
      ],
      "text/markdown": [
       "'nyt-comments'"
      ],
      "text/plain": [
       "[1] \"nyt-comments\""
      ]
     },
     "metadata": {},
     "output_type": "display_data"
    }
   ],
   "source": [
    "## Importing packages\n",
    "\n",
    "# This R environment comes with all of CRAN and many other helpful packages preinstalled.\n",
    "# You can see which packages are installed by checking out the kaggle/rstats docker image: \n",
    "# https://github.com/kaggle/docker-rstats\n",
    "\n",
    "library(tidyverse) # metapackage with lots of helpful functions\n",
    "\n",
    "## Running code\n",
    "\n",
    "# In a notebook, you can run a single code cell by clicking in the cell and then hitting \n",
    "# the blue arrow to the left, or by clicking in the cell and pressing Shift+Enter. In a script, \n",
    "# you can run code by highlighting the code you want to run and then clicking the blue arrow\n",
    "# at the bottom of this window.\n",
    "\n",
    "## Reading in files\n",
    "\n",
    "# You can access files from datasets you've added to this kernel in the \"../input/\" directory.\n",
    "# You can see the files added to this kernel by running the code below. \n",
    "\n",
    "list.files(path = \"../input\")\n",
    "\n",
    "## Saving data\n",
    "\n",
    "# If you save any files or images, these will be put in the \"output\" directory. You \n",
    "# can see the output directory by committing and running your kernel (using the \n",
    "# Commit & Run button) and then checking out the compiled version of your kernel."
   ]
  },
  {
   "cell_type": "markdown",
   "metadata": {},
   "source": [
    "1. keras :- to get the keras backend which is similar to python - model fitting. **text_tokenizer**\n",
    "2. tm :- A framework for text mining applications within R. **removeWords** - to remove unwanted words from the data, **removeNumbers** - Remove Numbers from a Text Document, **stopwords**, **stripWhitespace**, **removePunctuation**\n",
    "3. textstem :- lemmatization and stemming. **lemmatize_strings**\n",
    "4. rlist :- to append elements to a list - **list.append**\n",
    "5. qdap :-  Quantitative Discourse Analysis Package is an R package designed to assist in quantitative discourse analysis. The package stands as a bridge between qualitative transcripts of dialogue and statistical analysis & visualization.  **bracketX** - (hello) -> hello, **replace_abbreviation** - sr. -> senior, **replace_contraction** - he'd -> he would, **replace_symbol** - $ -> dollar\n",
    "6. wordcloud :- normal **wordcloud**"
   ]
  },
  {
   "cell_type": "code",
   "execution_count": 2,
   "metadata": {},
   "outputs": [
    {
     "name": "stderr",
     "output_type": "stream",
     "text": [
      "Loading required package: NLP\n",
      "\n",
      "\n",
      "Attaching package: ‘NLP’\n",
      "\n",
      "\n",
      "The following object is masked from ‘package:ggplot2’:\n",
      "\n",
      "    annotate\n",
      "\n",
      "\n",
      "The following object is masked from ‘package:httr’:\n",
      "\n",
      "    content\n",
      "\n",
      "\n",
      "Loading required package: koRpus.lang.en\n",
      "\n",
      "Loading required package: koRpus\n",
      "\n",
      "Loading required package: sylly\n",
      "\n",
      "For information on available language packages for 'koRpus', run\n",
      "\n",
      "  available.koRpus.lang()\n",
      "\n",
      "and see ?install.koRpus.lang()\n",
      "\n",
      "\n",
      "\n",
      "Attaching package: ‘koRpus’\n",
      "\n",
      "\n",
      "The following object is masked from ‘package:readr’:\n",
      "\n",
      "    tokenize\n",
      "\n",
      "\n"
     ]
    }
   ],
   "source": [
    "library(keras) \n",
    "library(tm) \n",
    "library(textstem)"
   ]
  },
  {
   "cell_type": "code",
   "execution_count": 3,
   "metadata": {},
   "outputs": [],
   "source": [
    "library(rlist) "
   ]
  },
  {
   "cell_type": "code",
   "execution_count": 4,
   "metadata": {},
   "outputs": [
    {
     "name": "stderr",
     "output_type": "stream",
     "text": [
      "Installing package into ‘/usr/local/lib/R/site-library’\n",
      "(as ‘lib’ is unspecified)\n",
      "\n",
      "also installing the dependencies ‘openNLPdata’, ‘rJava’, ‘xlsxjars’, ‘gender’, ‘openNLP’, ‘venneuler’, ‘xlsx’\n",
      "\n",
      "\n"
     ]
    }
   ],
   "source": [
    "install.packages(\"qdap\", INSTALL_opts = \"--no-multiarch\")"
   ]
  },
  {
   "cell_type": "code",
   "execution_count": 5,
   "metadata": {},
   "outputs": [
    {
     "name": "stderr",
     "output_type": "stream",
     "text": [
      "Loading required package: qdapDictionaries\n",
      "\n",
      "Loading required package: qdapRegex\n",
      "\n",
      "\n",
      "Attaching package: ‘qdapRegex’\n",
      "\n",
      "\n",
      "The following object is masked from ‘package:dplyr’:\n",
      "\n",
      "    explain\n",
      "\n",
      "\n",
      "The following object is masked from ‘package:ggplot2’:\n",
      "\n",
      "    %+%\n",
      "\n",
      "\n",
      "Loading required package: qdapTools\n",
      "\n",
      "\n",
      "Attaching package: ‘qdapTools’\n",
      "\n",
      "\n",
      "The following object is masked from ‘package:dplyr’:\n",
      "\n",
      "    id\n",
      "\n",
      "\n",
      "Loading required package: RColorBrewer\n",
      "\n",
      "Registered S3 methods overwritten by 'qdap':\n",
      "  method               from\n",
      "  t.DocumentTermMatrix tm  \n",
      "  t.TermDocumentMatrix tm  \n",
      "\n",
      "\n",
      "Attaching package: ‘qdap’\n",
      "\n",
      "\n",
      "The following object is masked from ‘package:textstem’:\n",
      "\n",
      "    stem_words\n",
      "\n",
      "\n",
      "The following object is masked from ‘package:koRpus’:\n",
      "\n",
      "    SMOG\n",
      "\n",
      "\n",
      "The following objects are masked from ‘package:tm’:\n",
      "\n",
      "    as.DocumentTermMatrix, as.TermDocumentMatrix\n",
      "\n",
      "\n",
      "The following object is masked from ‘package:NLP’:\n",
      "\n",
      "    ngrams\n",
      "\n",
      "\n",
      "The following object is masked from ‘package:keras’:\n",
      "\n",
      "    %>%\n",
      "\n",
      "\n",
      "The following object is masked from ‘package:forcats’:\n",
      "\n",
      "    %>%\n",
      "\n",
      "\n",
      "The following object is masked from ‘package:stringr’:\n",
      "\n",
      "    %>%\n",
      "\n",
      "\n",
      "The following object is masked from ‘package:dplyr’:\n",
      "\n",
      "    %>%\n",
      "\n",
      "\n",
      "The following object is masked from ‘package:purrr’:\n",
      "\n",
      "    %>%\n",
      "\n",
      "\n",
      "The following object is masked from ‘package:tidyr’:\n",
      "\n",
      "    %>%\n",
      "\n",
      "\n",
      "The following object is masked from ‘package:base’:\n",
      "\n",
      "    Filter\n",
      "\n",
      "\n"
     ]
    }
   ],
   "source": [
    "library(qdap)"
   ]
  },
  {
   "cell_type": "code",
   "execution_count": 6,
   "metadata": {},
   "outputs": [],
   "source": [
    "library(wordcloud)"
   ]
  },
  {
   "cell_type": "code",
   "execution_count": 7,
   "metadata": {},
   "outputs": [
    {
     "name": "stderr",
     "output_type": "stream",
     "text": [
      "Parsed with column specification:\n",
      "cols(\n",
      "  articleID = \u001b[31mcol_character()\u001b[39m,\n",
      "  abstract = \u001b[31mcol_character()\u001b[39m,\n",
      "  byline = \u001b[31mcol_character()\u001b[39m,\n",
      "  documentType = \u001b[31mcol_character()\u001b[39m,\n",
      "  headline = \u001b[31mcol_character()\u001b[39m,\n",
      "  keywords = \u001b[31mcol_character()\u001b[39m,\n",
      "  multimedia = \u001b[32mcol_double()\u001b[39m,\n",
      "  newDesk = \u001b[31mcol_character()\u001b[39m,\n",
      "  printPage = \u001b[32mcol_double()\u001b[39m,\n",
      "  pubDate = \u001b[34mcol_datetime(format = \"\")\u001b[39m,\n",
      "  sectionName = \u001b[31mcol_character()\u001b[39m,\n",
      "  snippet = \u001b[31mcol_character()\u001b[39m,\n",
      "  source = \u001b[31mcol_character()\u001b[39m,\n",
      "  typeOfMaterial = \u001b[31mcol_character()\u001b[39m,\n",
      "  webURL = \u001b[31mcol_character()\u001b[39m,\n",
      "  articleWordCount = \u001b[32mcol_double()\u001b[39m\n",
      ")\n",
      "\n"
     ]
    }
   ],
   "source": [
    "df = read_csv(\"../input/nyt-comments/ArticlesJan2017.csv\")"
   ]
  },
  {
   "cell_type": "code",
   "execution_count": 8,
   "metadata": {},
   "outputs": [],
   "source": [
    "headline = df['headline']"
   ]
  },
  {
   "cell_type": "code",
   "execution_count": 9,
   "metadata": {},
   "outputs": [
    {
     "data": {
      "text/html": [
       "<table>\n",
       "<caption>A tibble: 6 × 1</caption>\n",
       "<thead>\n",
       "\t<tr><th scope=col>headline</th></tr>\n",
       "\t<tr><th scope=col>&lt;chr&gt;</th></tr>\n",
       "</thead>\n",
       "<tbody>\n",
       "\t<tr><td>G.O.P. Leadership Poised to Topple Obama’s Pillars  </td></tr>\n",
       "\t<tr><td>Fractured World Tested the Hope of a Young President</td></tr>\n",
       "\t<tr><td>Little Troublemakers                                </td></tr>\n",
       "\t<tr><td>Angela Merkel, Russia’s Next Target                 </td></tr>\n",
       "\t<tr><td>Boots for a Stranger on a Bus                       </td></tr>\n",
       "\t<tr><td>Molder of Navajo Youth, Where a Game Is Sacred      </td></tr>\n",
       "</tbody>\n",
       "</table>\n"
      ],
      "text/latex": [
       "A tibble: 6 × 1\n",
       "\\begin{tabular}{r|l}\n",
       " headline\\\\\n",
       " <chr>\\\\\n",
       "\\hline\n",
       "\t G.O.P. Leadership Poised to Topple Obama’s Pillars  \\\\\n",
       "\t Fractured World Tested the Hope of a Young President\\\\\n",
       "\t Little Troublemakers                                \\\\\n",
       "\t Angela Merkel, Russia’s Next Target                 \\\\\n",
       "\t Boots for a Stranger on a Bus                       \\\\\n",
       "\t Molder of Navajo Youth, Where a Game Is Sacred      \\\\\n",
       "\\end{tabular}\n"
      ],
      "text/markdown": [
       "\n",
       "A tibble: 6 × 1\n",
       "\n",
       "| headline &lt;chr&gt; |\n",
       "|---|\n",
       "| G.O.P. Leadership Poised to Topple Obama’s Pillars   |\n",
       "| Fractured World Tested the Hope of a Young President |\n",
       "| Little Troublemakers                                 |\n",
       "| Angela Merkel, Russia’s Next Target                  |\n",
       "| Boots for a Stranger on a Bus                        |\n",
       "| Molder of Navajo Youth, Where a Game Is Sacred       |\n",
       "\n"
      ],
      "text/plain": [
       "  headline                                            \n",
       "1 G.O.P. Leadership Poised to Topple Obama’s Pillars  \n",
       "2 Fractured World Tested the Hope of a Young President\n",
       "3 Little Troublemakers                                \n",
       "4 Angela Merkel, Russia’s Next Target                 \n",
       "5 Boots for a Stranger on a Bus                       \n",
       "6 Molder of Navajo Youth, Where a Game Is Sacred      "
      ]
     },
     "metadata": {},
     "output_type": "display_data"
    }
   ],
   "source": [
    "head(headline)"
   ]
  },
  {
   "cell_type": "code",
   "execution_count": 10,
   "metadata": {},
   "outputs": [],
   "source": [
    "# Data Preprocessing\n",
    "cleaned_df = matrix(0, ncol = 1, nrow = dim(headline)[1])\n",
    "cleaned_df = data.frame(cleaned_df)"
   ]
  },
  {
   "cell_type": "code",
   "execution_count": 11,
   "metadata": {},
   "outputs": [],
   "source": [
    "cleaned_df = data.frame(headline)"
   ]
  },
  {
   "cell_type": "code",
   "execution_count": 12,
   "metadata": {},
   "outputs": [],
   "source": [
    "# Removing words that have length <= 2\n",
    "for(i in 1:dim(headline)[1])\n",
    "{\n",
    "  cleaned_df[i,1] = gsub('\\\\b\\\\w{1,2}\\\\b','',headline[i,1])\n",
    "}"
   ]
  },
  {
   "cell_type": "code",
   "execution_count": 13,
   "metadata": {},
   "outputs": [],
   "source": [
    "stopwords = stopwords(\"english\")"
   ]
  },
  {
   "cell_type": "code",
   "execution_count": 14,
   "metadata": {},
   "outputs": [],
   "source": [
    "for( i in 1:dim(cleaned_df)[1] )\n",
    "{\n",
    "  x = tolower(cleaned_df[i,1])\n",
    "  x = removePunctuation(x)\n",
    "  cleaned_df[i,1] = x\n",
    "}"
   ]
  },
  {
   "cell_type": "code",
   "execution_count": 15,
   "metadata": {},
   "outputs": [
    {
     "data": {
      "text/html": [
       "<table>\n",
       "<caption>A data.frame: 6 × 1</caption>\n",
       "<thead>\n",
       "\t<tr><th></th><th scope=col>headline</th></tr>\n",
       "\t<tr><th></th><th scope=col>&lt;chr&gt;</th></tr>\n",
       "</thead>\n",
       "<tbody>\n",
       "\t<tr><th scope=row>1</th><td> leadership poised  topple obama’ pillars        </td></tr>\n",
       "\t<tr><th scope=row>2</th><td>fractured world tested the hope   young president</td></tr>\n",
       "\t<tr><th scope=row>3</th><td>little troublemakers                             </td></tr>\n",
       "\t<tr><th scope=row>4</th><td>angela merkel russia’ next target                </td></tr>\n",
       "\t<tr><th scope=row>5</th><td>boots for  stranger   bus                        </td></tr>\n",
       "\t<tr><th scope=row>6</th><td>molder  navajo youth where  game  sacred         </td></tr>\n",
       "</tbody>\n",
       "</table>\n"
      ],
      "text/latex": [
       "A data.frame: 6 × 1\n",
       "\\begin{tabular}{r|l}\n",
       "  & headline\\\\\n",
       "  & <chr>\\\\\n",
       "\\hline\n",
       "\t1 &  leadership poised  topple obama’ pillars        \\\\\n",
       "\t2 & fractured world tested the hope   young president\\\\\n",
       "\t3 & little troublemakers                             \\\\\n",
       "\t4 & angela merkel russia’ next target                \\\\\n",
       "\t5 & boots for  stranger   bus                        \\\\\n",
       "\t6 & molder  navajo youth where  game  sacred         \\\\\n",
       "\\end{tabular}\n"
      ],
      "text/markdown": [
       "\n",
       "A data.frame: 6 × 1\n",
       "\n",
       "| <!--/--> | headline &lt;chr&gt; |\n",
       "|---|---|\n",
       "| 1 |  leadership poised  topple obama’ pillars         |\n",
       "| 2 | fractured world tested the hope   young president |\n",
       "| 3 | little troublemakers                              |\n",
       "| 4 | angela merkel russia’ next target                 |\n",
       "| 5 | boots for  stranger   bus                         |\n",
       "| 6 | molder  navajo youth where  game  sacred          |\n",
       "\n"
      ],
      "text/plain": [
       "  headline                                         \n",
       "1  leadership poised  topple obama’ pillars        \n",
       "2 fractured world tested the hope   young president\n",
       "3 little troublemakers                             \n",
       "4 angela merkel russia’ next target                \n",
       "5 boots for  stranger   bus                        \n",
       "6 molder  navajo youth where  game  sacred         "
      ]
     },
     "metadata": {},
     "output_type": "display_data"
    }
   ],
   "source": [
    "head(cleaned_df)"
   ]
  },
  {
   "cell_type": "code",
   "execution_count": 16,
   "metadata": {},
   "outputs": [
    {
     "name": "stderr",
     "output_type": "stream",
     "text": [
      "Registered S3 methods overwritten by 'textclean':\n",
      "  method           from\n",
      "  print.check_text qdap\n",
      "  print.sub_holder qdap\n",
      "\n"
     ]
    }
   ],
   "source": [
    "for( i in 1:dim(cleaned_df)[1] )\n",
    "{\n",
    "  x = tolower(cleaned_df[i,1])\n",
    "  x = removePunctuation(x)\n",
    "  x = stripWhitespace(x)\n",
    "  x = removeNumbers(x)\n",
    "  x = bracketX(x)\n",
    "  x = replace_abbreviation(x)\n",
    "  x = replace_contraction(x)\n",
    "  x = replace_symbol(x)\n",
    "  x = removeWords(x, stopwords)\n",
    "  x = lemmatize_strings(x)\n",
    "  cleaned_df[i,1] = x\n",
    "}"
   ]
  },
  {
   "cell_type": "code",
   "execution_count": 17,
   "metadata": {},
   "outputs": [],
   "source": [
    "corpus = c()\n",
    "for(i in 1:dim(cleaned_df)[1])\n",
    "{\n",
    "    #stop = c(\"the\", \"Unknown\", \"trump\", \"Trump\")\n",
    "    x = removeWords(cleaned_df[i,1], \"Unknown\")\n",
    "    #x = cleaned_df[i,1]\n",
    "    corpus = append(corpus, x, length(corpus))\n",
    "}"
   ]
  },
  {
   "cell_type": "code",
   "execution_count": 18,
   "metadata": {},
   "outputs": [
    {
     "name": "stderr",
     "output_type": "stream",
     "text": [
      "Warning message in tm_map.SimpleCorpus(corpus, tm::removePunctuation):\n",
      "“transformation drops documents”\n",
      "Warning message in tm_map.SimpleCorpus(corpus, function(x) tm::removeWords(x, tm::stopwords())):\n",
      "“transformation drops documents”\n"
     ]
    },
    {
     "data": {
      "image/png": "[encoded data removed]"
     },
     "metadata": {
      "image/png": {
       "height": 420,
       "width": 420
      }
     },
     "output_type": "display_data"
    }
   ],
   "source": [
    "wordcloud(corpus, min.freq = 10,random.order = FALSE)"
   ]
  },
  {
   "cell_type": "code",
   "execution_count": 19,
   "metadata": {},
   "outputs": [
    {
     "data": {
      "text/html": [
       "'Leadership poise topple obama ’ pillar'"
      ],
      "text/latex": [
       "'Leadership poise topple obama ’ pillar'"
      ],
      "text/markdown": [
       "'Leadership poise topple obama ’ pillar'"
      ],
      "text/plain": [
       "[1] \"Leadership poise topple obama ’ pillar\""
      ]
     },
     "metadata": {},
     "output_type": "display_data"
    }
   ],
   "source": [
    "corpus[1]"
   ]
  },
  {
   "cell_type": "markdown",
   "metadata": {},
   "source": [
    "1. text_tokenizer, fit_text_tokenizer, texts_tp_sequences all these are used to convert a word into numbers so that computer can understand\n",
    "2. word_index :- this returns a dictionary mapping each word to its corresponding number given by the text_to_sequences\n",
    "3. pad_sequences :- to make the all the record having same length\n",
    "4. to_categorical :- one-hot encoding of the labels"
   ]
  },
  {
   "cell_type": "code",
   "execution_count": 20,
   "metadata": {},
   "outputs": [],
   "source": [
    "tokenizer <- text_tokenizer(num_words = 15000) %>% \n",
    "  fit_text_tokenizer(corpus)"
   ]
  },
  {
   "cell_type": "code",
   "execution_count": 21,
   "metadata": {},
   "outputs": [],
   "source": [
    "sequences <- texts_to_sequences(tokenizer, corpus)\n",
    "word_index <- tokenizer$word_index"
   ]
  },
  {
   "cell_type": "code",
   "execution_count": 22,
   "metadata": {},
   "outputs": [],
   "source": [
    "input = as.character(corpus)"
   ]
  },
  {
   "cell_type": "code",
   "execution_count": 23,
   "metadata": {},
   "outputs": [],
   "source": [
    "len = c()\n",
    "for(x in 1:length(input))\n",
    "{\n",
    "    len = append(len, sapply(strsplit(input[x], \" \"), length), length(len))\n",
    "}\n",
    "max_length = max(len)\n",
    "len = c()"
   ]
  },
  {
   "cell_type": "code",
   "execution_count": 24,
   "metadata": {},
   "outputs": [
    {
     "data": {
      "text/html": [
       "14"
      ],
      "text/latex": [
       "14"
      ],
      "text/markdown": [
       "14"
      ],
      "text/plain": [
       "[1] 14"
      ]
     },
     "metadata": {},
     "output_type": "display_data"
    }
   ],
   "source": [
    "max_length"
   ]
  },
  {
   "cell_type": "code",
   "execution_count": 25,
   "metadata": {},
   "outputs": [],
   "source": [
    "data = (pad_sequences(sequences, maxlen = max_length, padding = \"pre\"))"
   ]
  },
  {
   "cell_type": "code",
   "execution_count": 26,
   "metadata": {},
   "outputs": [
    {
     "data": {
      "text/html": [
       "<ol class=list-inline>\n",
       "\t<li>850</li>\n",
       "\t<li>14</li>\n",
       "</ol>\n"
      ],
      "text/latex": [
       "\\begin{enumerate*}\n",
       "\\item 850\n",
       "\\item 14\n",
       "\\end{enumerate*}\n"
      ],
      "text/markdown": [
       "1. 850\n",
       "2. 14\n",
       "\n",
       "\n"
      ],
      "text/plain": [
       "[1] 850  14"
      ]
     },
     "metadata": {},
     "output_type": "display_data"
    }
   ],
   "source": [
    "dim(data)"
   ]
  },
  {
   "cell_type": "code",
   "execution_count": 27,
   "metadata": {},
   "outputs": [],
   "source": [
    "features = data.matrix(data[,-dim(data)[2]])"
   ]
  },
  {
   "cell_type": "code",
   "execution_count": 28,
   "metadata": {},
   "outputs": [],
   "source": [
    "labels = data.matrix(data[,dim(data)[2]])"
   ]
  },
  {
   "cell_type": "code",
   "execution_count": 29,
   "metadata": {},
   "outputs": [],
   "source": [
    "total_words = length(word_index) + 1"
   ]
  },
  {
   "cell_type": "code",
   "execution_count": 30,
   "metadata": {},
   "outputs": [],
   "source": [
    "labels = to_categorical(labels, num_classes = total_words)"
   ]
  },
  {
   "cell_type": "code",
   "execution_count": 31,
   "metadata": {},
   "outputs": [],
   "source": [
    "model = keras_model_sequential() %>%\n",
    "        layer_embedding(total_words, 10, input_length = max_length - 1, name = \"embedding\") %>%\n",
    "        layer_lstm(100, name = \"lstm\") %>%\n",
    "        layer_dropout(0.1, name = \"dropout\") %>%\n",
    "        layer_dense(total_words, activation = \"softmax\", name = \"dense\")"
   ]
  },
  {
   "cell_type": "code",
   "execution_count": 32,
   "metadata": {},
   "outputs": [],
   "source": [
    "# Compile\n",
    "\n",
    "model %>% compile(\n",
    "  optimizer = optimizer_adam(),\n",
    "  loss = \"categorical_crossentropy\"\n",
    ")"
   ]
  },
  {
   "cell_type": "code",
   "execution_count": 33,
   "metadata": {},
   "outputs": [],
   "source": [
    "model %>% fit(features, labels, epochs = 50, verbose = 0)"
   ]
  },
  {
   "cell_type": "code",
   "execution_count": 34,
   "metadata": {},
   "outputs": [
    {
     "data": {
      "text/plain": [
       "Model\n",
       "________________________________________________________________________________\n",
       "Layer (type)                        Output Shape                    Param #     \n",
       "================================================================================\n",
       "embedding (Embedding)               (None, 13, 10)                  17860       \n",
       "________________________________________________________________________________\n",
       "lstm (LSTM)                         (None, 100)                     44400       \n",
       "________________________________________________________________________________\n",
       "dropout (Dropout)                   (None, 100)                     0           \n",
       "________________________________________________________________________________\n",
       "dense (Dense)                       (None, 1786)                    180386      \n",
       "================================================================================\n",
       "Total params: 242,646\n",
       "Trainable params: 242,646\n",
       "Non-trainable params: 0\n",
       "________________________________________________________________________________\n",
       "\n"
      ]
     },
     "metadata": {},
     "output_type": "display_data"
    }
   ],
   "source": [
    "model"
   ]
  },
  {
   "cell_type": "code",
   "execution_count": 35,
   "metadata": {},
   "outputs": [],
   "source": [
    "generate_text = function(seed_text, next_words, model, max_seq_len)\n",
    "{\n",
    "    for(i in 1:(next_words))\n",
    "    {\n",
    "        tokenizer = text_tokenizer(num_words = 15000) %>% \n",
    "                    fit_text_tokenizer(corpus)\n",
    "        token_list = texts_to_sequences(tokenizer, seed_text)\n",
    "        \n",
    "        word_index = tokenizer$word_index\n",
    "        words = as.data.frame(word_index)\n",
    "        \n",
    "        token_list = pad_sequences(token_list, maxlen=max_seq_len-1, padding='pre')\n",
    "        predicted = predict_classes(model, list(token_list), verbose = 0)\n",
    "        print(predicted)\n",
    "        output_word = \"\"\n",
    "        for(index in 1:dim(words)[2])\n",
    "        {\n",
    "            if(words[index] == predicted)\n",
    "            {\n",
    "                output_word = list(colnames(words[index]))\n",
    "                break\n",
    "            }\n",
    "        }  \n",
    "        seed_text = list(paste(seed_text, output_word, sep = \" \"))\n",
    "    }\n",
    "    return(seed_text)\n",
    "}"
   ]
  },
  {
   "cell_type": "code",
   "execution_count": 36,
   "metadata": {},
   "outputs": [],
   "source": [
    "seed_text = list(\"leadership poise topple\")"
   ]
  },
  {
   "cell_type": "code",
   "execution_count": 37,
   "metadata": {},
   "outputs": [
    {
     "name": "stdout",
     "output_type": "stream",
     "text": [
      "[1] 852\n",
      "[1] 260\n",
      "[1] 40\n",
      "[1] 40\n",
      "[1] 1\n",
      "[[1]]\n",
      "[1] \"leadership poise topple brain food plan plan X..1\"\n",
      "\n"
     ]
    }
   ],
   "source": [
    "print(generate_text(seed_text, 5, model, max_length))"
   ]
  }
 ],
 "metadata": {
  "kernelspec": {
   "display_name": "R",
   "language": "R",
   "name": "ir"
  },
  "language_info": {
   "codemirror_mode": "r",
   "file_extension": ".r",
   "mimetype": "text/x-r-source",
   "name": "R",
   "pygments_lexer": "r",
   "version": "3.6.0"
  }
 },
 "nbformat": 4,
 "nbformat_minor": 1
}
